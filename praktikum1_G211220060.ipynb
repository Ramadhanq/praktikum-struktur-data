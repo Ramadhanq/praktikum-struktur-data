{
  "nbformat": 4,
  "nbformat_minor": 0,
  "metadata": {
    "colab": {
      "provenance": []
    },
    "kernelspec": {
      "name": "python3",
      "display_name": "Python 3"
    },
    "language_info": {
      "name": "python"
    }
  },
  "cells": [
    {
      "cell_type": "code",
      "source": [
        "list_nilai_mahasiswa = [37,69,75,85,50,60,70,80,90,100,]\n",
        "print(\"List Nilai Mahasiswa : \\n\",list_nilai_mahasiswa)\n",
        "print(\"\\nJumlah Index list nilai mahasiswa (len) : \\n\", len(list_nilai_mahasiswa))\n",
        "print(\"\\nJumlah Nilai 69 Dalam List (count) : \\n\", list_nilai_mahasiswa.count(69))\n",
        "print(\"\\nMenambaahkan element dalam list (append):\")\n",
        "list_nilai_mahasiswa.append(83)\n",
        "list_nilai_mahasiswa.append(1)\n",
        "print(\"List nilai mahasiswa:\", list_nilai_mahasiswa)\n",
        "list_nilai_mahasiswa.insert(60,73)\n",
        "print(\"\\nTambah Nilai Mahasiswa(insert):\\n\", list_nilai_mahasiswa)\n",
        "list_nilai_mahasiswa.pop()\n",
        "list_nilai_mahasiswa.pop()\n",
        "print(\"\\nList nilai mahasiswa (pop):\\n\",list_nilai_mahasiswa)\n",
        "list_nilai_mahasiswa.remove(50)\n",
        "list_nilai_mahasiswa.remove(37)\n",
        "print(\"\\nList nilai mahasiswa (remove):\\n\", list_nilai_mahasiswa)\n",
        "list_nilai_mahasiswa2 = [60,75,85,90]\n",
        "list_nilai_mahasiswa.extend(list_nilai_mahasiswa2)\n",
        "print(\"\\nList Nilai mahasiswa(extend):\\n\", list_nilai_mahasiswa)\n",
        "list_nilai_mahasiswa.reverse()\n",
        "print(\"\\nList Nilai mahasiswa(reverse):\\n\", list_nilai_mahasiswa)\n",
        "list_nilai_mahasiswa.sort()\n",
        "print(\"\\nList Nilai mahasiswa(sort):\\n\", list_nilai_mahasiswa)\n",
        "print(\"\\nList Nilai mahasiswa(max):\\n\", max(list_nilai_mahasiswa))\n",
        "print(\"\\nList Nilai mahasiswa(min):\\n\", min(list_nilai_mahasiswa))\n",
        "print(\"\\ntotal penjumlahan nilai dari list_nilai_mahasiswa (sum):\\n\", sum(list_nilai_mahasiswa))"
      ],
      "metadata": {
        "colab": {
          "base_uri": "https://localhost:8080/"
        },
        "id": "IStcRClGhU2i",
        "outputId": "12b9e5e6-e97d-4f35-8169-a910e9233f4b"
      },
      "execution_count": 7,
      "outputs": [
        {
          "output_type": "stream",
          "name": "stdout",
          "text": [
            "List Nilai Mahasiswa : \n",
            " [37, 69, 75, 85, 50, 60, 70, 80, 90, 100]\n",
            "\n",
            "Jumlah Index list nilai mahasiswa (len) : \n",
            " 10\n",
            "\n",
            "Jumlah Nilai 69 Dalam List (count) : \n",
            " 1\n",
            "\n",
            "Menambaahkan element dalam list (append):\n",
            "List nilai mahasiswa: [37, 69, 75, 85, 50, 60, 70, 80, 90, 100, 83, 1]\n",
            "\n",
            "Tambah Nilai Mahasiswa(insert):\n",
            " [37, 69, 75, 85, 50, 60, 70, 80, 90, 100, 83, 1, 73]\n",
            "\n",
            "List nilai mahasiswa (pop):\n",
            " [37, 69, 75, 85, 50, 60, 70, 80, 90, 100, 83]\n",
            "\n",
            "List nilai mahasiswa (remove):\n",
            " [69, 75, 85, 60, 70, 80, 90, 100, 83]\n",
            "\n",
            "List Nilai mahasiswa(extend):\n",
            " [69, 75, 85, 60, 70, 80, 90, 100, 83, 60, 75, 85, 90]\n",
            "\n",
            "List Nilai mahasiswa(reverse):\n",
            " [90, 85, 75, 60, 83, 100, 90, 80, 70, 60, 85, 75, 69]\n",
            "\n",
            "List Nilai mahasiswa(sort):\n",
            " [60, 60, 69, 70, 75, 75, 80, 83, 85, 85, 90, 90, 100]\n",
            "\n",
            "List Nilai mahasiswa(max):\n",
            " 100\n",
            "\n",
            "List Nilai mahasiswa(min):\n",
            " 60\n",
            "\n",
            "total penjumlahan nilai dari list_nilai_mahasiswa (sum):\n",
            " 1022\n"
          ]
        }
      ]
    },
    {
      "cell_type": "code",
      "source": [],
      "metadata": {
        "id": "LVmrxOJDl8RJ"
      },
      "execution_count": null,
      "outputs": []
    }
  ]
}