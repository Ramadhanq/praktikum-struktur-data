{
  "nbformat": 4,
  "nbformat_minor": 0,
  "metadata": {
    "colab": {
      "provenance": []
    },
    "kernelspec": {
      "name": "python3",
      "display_name": "Python 3"
    },
    "language_info": {
      "name": "python"
    }
  },
  "cells": [
    {
      "cell_type": "code",
      "execution_count": 2,
      "metadata": {
        "id": "7XvCyfkgb30D"
      },
      "outputs": [],
      "source": [
        "def convert(s):\n",
        "\n",
        "  new = \"\"\n",
        "  for x in s:\n",
        "    new += x\n",
        "\n",
        "  return new\n",
        "  s = ['g', 'e', 'e', 'k', 's', 'f', 'o', 'r', 'g', 'e', 'e', 'k', 's']\n",
        "  print(convert(s))"
      ]
    }
  ]
}