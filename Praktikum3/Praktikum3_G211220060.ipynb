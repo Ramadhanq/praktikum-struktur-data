{
  "nbformat": 4,
  "nbformat_minor": 0,
  "metadata": {
    "colab": {
      "provenance": []
    },
    "kernelspec": {
      "name": "python3",
      "display_name": "Python 3"
    },
    "language_info": {
      "name": "python"
    }
  },
  "cells": [
    {
      "cell_type": "code",
      "execution_count": 2,
      "metadata": {
        "id": "urZuq4wZ6f7p"
      },
      "outputs": [],
      "source": [
        "def convert(s):\n",
        "\n",
        "  new = \"\"\n",
        "  for x in s:\n",
        "    new += x\n",
        "\n",
        "  return new\n",
        "  s = ['P', 'r', 'o', 'g', 'r', 'a', 'm', 'm', 'i', 'n', 'g']\n",
        "  print(convert(s))"
      ]
    }
  ]
}