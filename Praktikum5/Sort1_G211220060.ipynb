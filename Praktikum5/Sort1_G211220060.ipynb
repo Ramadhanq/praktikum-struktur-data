{
  "nbformat": 4,
  "nbformat_minor": 0,
  "metadata": {
    "colab": {
      "provenance": []
    },
    "kernelspec": {
      "name": "python3",
      "display_name": "Python 3"
    },
    "language_info": {
      "name": "python"
    }
  },
  "cells": [
    {
      "cell_type": "markdown",
      "source": [
        "Coding Bubble Short"
      ],
      "metadata": {
        "id": "PR3ErUPHMIWL"
      }
    },
    {
      "cell_type": "code",
      "execution_count": 1,
      "metadata": {
        "id": "WHmU2zvXolFB",
        "colab": {
          "base_uri": "https://localhost:8080/"
        },
        "outputId": "f7469471-a141-4ac9-c6e6-9f599cee8a42"
      },
      "outputs": [
        {
          "output_type": "stream",
          "name": "stdout",
          "text": [
            "Hasil setelah Bubble Sort: [11, 12, 22, 25, 34, 64, 90]\n"
          ]
        }
      ],
      "source": [
        "def bubble_sort(arr):\n",
        "    n = len(arr)\n",
        "\n",
        "    # Perulangan untuk jumlah iterasi\n",
        "    for i in range(n):\n",
        "        # Setiap iterasi, elemen terakhir sudah pasti sudah berada di posisi yang benar\n",
        "        # Jadi, kita hanya perlu melakukan iterasi sampai (n-i-1)\n",
        "        for j in range(0, n-i-1):\n",
        "            # Bandingkan dua elemen berturut-turut\n",
        "            if arr[j] > arr[j+1]:\n",
        "                # Jika elemen pertama lebih besar dari elemen kedua, tukar posisinya\n",
        "                arr[j], arr[j+1] = arr[j+1], arr[j]\n",
        "\n",
        "# Contoh penggunaan Bubble Sort\n",
        "arr = [64, 34, 25, 12, 22, 11, 90]\n",
        "bubble_sort(arr)\n",
        "\n",
        "print(\"Hasil setelah Bubble Sort:\", arr)\n"
      ]
    },
    {
      "cell_type": "markdown",
      "source": [
        "Codingan Selection Sort"
      ],
      "metadata": {
        "id": "Xv8lBmUbMNoe"
      }
    },
    {
      "cell_type": "code",
      "source": [
        "def selection_sort(arr):\n",
        "    n = len(arr)\n",
        "\n",
        "    # Traverse through all array elements starting from 0\n",
        "    for i in range(n):\n",
        "        # Find the minimum element in the unsorted part of the array\n",
        "        min_index = i\n",
        "        for j in range(i + 1, n):\n",
        "            if arr[j] < arr[min_index]:\n",
        "                min_index = j\n",
        "\n",
        "        # Swap the found minimum element with the first element\n",
        "        arr[i], arr[min_index] = arr[min_index], arr[i]\n",
        "\n",
        "# Example usage:\n",
        "my_array = [64, 25, 12, 22, 11]\n",
        "selection_sort(my_array)\n",
        "print(\"Sorted array:\", my_array)\n"
      ],
      "metadata": {
        "colab": {
          "base_uri": "https://localhost:8080/"
        },
        "id": "LXDtoVP7OBPG",
        "outputId": "6aadf0b8-8a17-409a-de87-478d91fea46d"
      },
      "execution_count": 2,
      "outputs": [
        {
          "output_type": "stream",
          "name": "stdout",
          "text": [
            "Sorted array: [11, 12, 22, 25, 64]\n"
          ]
        }
      ]
    },
    {
      "cell_type": "markdown",
      "source": [
        "Codingan Insertion Sort"
      ],
      "metadata": {
        "id": "0pzKYS1jQkeI"
      }
    },
    {
      "cell_type": "code",
      "source": [
        "def insertion_sort(arr):\n",
        "    # Iterasi dimulai dari indeks 1, karena elemen pertama dianggap sudah terurut\n",
        "    for i in range(1, len(arr)):\n",
        "        current_element = arr[i]  # Simpan elemen saat ini untuk dibandingkan\n",
        "        j = i - 1  # Mulai dari indeks sebelumnya\n",
        "\n",
        "        # Geser elemen-elemen yang lebih besar ke kanan\n",
        "        while j >= 0 and current_element < arr[j]:\n",
        "            arr[j + 1] = arr[j]\n",
        "            j -= 1\n",
        "\n",
        "        # Tempatkan elemen saat ini pada posisi yang benar\n",
        "        arr[j + 1] = current_element\n",
        "\n",
        "# Contoh penggunaan\n",
        "my_array = [12, 11, 13, 5, 6]\n",
        "insertion_sort(my_array)\n",
        "print(\"Array setelah pengurutan:\", my_array)"
      ],
      "metadata": {
        "colab": {
          "base_uri": "https://localhost:8080/"
        },
        "id": "2KRyWYbrQY1h",
        "outputId": "5b2c54a1-fbe2-4000-9ded-bfe4d58e1ea4"
      },
      "execution_count": 4,
      "outputs": [
        {
          "output_type": "stream",
          "name": "stdout",
          "text": [
            "Array setelah pengurutan: [5, 6, 11, 12, 13]\n"
          ]
        }
      ]
    }
  ]
}