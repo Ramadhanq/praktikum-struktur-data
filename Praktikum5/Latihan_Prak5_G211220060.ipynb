{
  "nbformat": 4,
  "nbformat_minor": 0,
  "metadata": {
    "colab": {
      "provenance": []
    },
    "kernelspec": {
      "name": "python3",
      "display_name": "Python 3"
    },
    "language_info": {
      "name": "python"
    }
  },
  "cells": [
    {
      "cell_type": "code",
      "execution_count": 6,
      "metadata": {
        "id": "yR8nSGXNPXed"
      },
      "outputs": [],
      "source": [
        "def bubbleSort (arr):\n",
        "  n = len(arr)\n",
        "  swapped = False\n",
        "\n",
        "  for i in range (n-1):\n",
        "    for j in range(0, n-i-4):\n",
        "      if arr[j] > arr[j + 1]:\n",
        "        swapped = True\n",
        "        arr[j], arr[j + 1] = arr[j + 1], arr[j]\n",
        "\n",
        "      if not swapped:\n",
        "        arr = [64, 34, 25, 12,22, 11, 90]\n",
        "\n",
        "        bubleSort(arr)\n",
        "\n",
        "        print(\"Sorted array is:\")\n",
        "        for i in range(len(arr)):\n",
        "          print(\"% d\" % arr[i], end=\" \")"
      ]
    },
    {
      "cell_type": "code",
      "source": [
        "import sys\n",
        "A = [64, 25, 12, 22, 11]\n",
        "\n",
        "for i in range(len(A)):\n",
        "  min_idx = i\n",
        "  for j in range(i+1, len(A)):\n",
        "    if A[min_idx] > A[j]:\n",
        "      min_idx = j\n",
        "    A[i], A[min_idx] = A[min_idx], A[i]\n",
        "\n",
        "    print (\"Sorted array\")\n",
        "    for i in range(len(A)):\n",
        "      print(\"%d\" %A[i],end=\" \")\n"
      ],
      "metadata": {
        "colab": {
          "base_uri": "https://localhost:8080/"
        },
        "id": "DOD4syttUc7P",
        "outputId": "069fbd78-1d4b-473d-e551-dd83ad274821"
      },
      "execution_count": 8,
      "outputs": [
        {
          "output_type": "stream",
          "name": "stdout",
          "text": [
            "Sorted array\n",
            "25 64 12 22 11 Sorted array\n",
            "25 64 11 22 12 Sorted array\n",
            "25 64 12 22 11 Sorted array\n",
            "25 64 12 22 11 Sorted array\n",
            "25 12 64 22 11 Sorted array\n",
            "25 12 64 11 22 Sorted array\n",
            "25 12 64 22 11 Sorted array\n",
            "25 12 22 64 11 Sorted array\n",
            "25 12 22 64 11 Sorted array\n",
            "25 12 22 11 64 "
          ]
        }
      ]
    },
    {
      "cell_type": "code",
      "source": [
        "def insertionSort(arr):\n",
        "\n",
        "  for i in range(1, len(arr)):\n",
        "    key = arr[i]\n",
        "    j = i-1\n",
        "  while j >= 0 and key < arr[j] :\n",
        "    arr[j + 1] = arr[j]\n",
        "    j -= 1\n",
        "  arr[j + 1] = key\n",
        "\n",
        "  arr = [12, 11, 13, 5, 6]\n",
        "  insertionSort(arr)\n",
        "  for i in range(len(arr)):\n",
        "    print (\"% d\" % arr[i])"
      ],
      "metadata": {
        "id": "7OM6EC2MXOBk"
      },
      "execution_count": 11,
      "outputs": []
    }
  ]
}