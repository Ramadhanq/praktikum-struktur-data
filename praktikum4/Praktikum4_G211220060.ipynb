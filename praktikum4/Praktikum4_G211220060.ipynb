{
  "nbformat": 4,
  "nbformat_minor": 0,
  "metadata": {
    "colab": {
      "provenance": []
    },
    "kernelspec": {
      "name": "python3",
      "display_name": "Python 3"
    },
    "language_info": {
      "name": "python"
    }
  },
  "cells": [
    {
      "cell_type": "code",
      "execution_count": 1,
      "metadata": {
        "colab": {
          "base_uri": "https://localhost:8080/"
        },
        "id": "swTmYZy2c5XP",
        "outputId": "4b8042a8-171c-4eff-b1cb-2a53e8e31c38"
      },
      "outputs": [
        {
          "output_type": "stream",
          "name": "stdout",
          "text": [
            "\"The quick brown fox jumps over the little lazy dog\"\n",
            "\n",
            "is not a pangram\n"
          ]
        }
      ],
      "source": [
        "# A Python Program to check if the given\n",
        "# string is a pangram or not\n",
        "def checkPangram(s):\n",
        "  List = []\n",
        "  # create list of 26 characters and set false each entry\n",
        "  for i in range(26):\n",
        "    List.append(False)\n",
        "\n",
        "  # converting the sentence to lowercase and iterating\n",
        "  # over the sentence\n",
        "  for c in s.lower():\n",
        "    if not c == \" \":\n",
        "\n",
        "      # make the corresponding entry True\n",
        "      List[ord(c) - ord('a')] = True\n",
        "\n",
        "  # check if any character is missing then return False\n",
        "  for ch in List:\n",
        "    if ch == False:\n",
        "      return False\n",
        "      return True\n",
        "# Driver Program to test above functions\n",
        "sentence = \"The quick brown fox jumps over the little lazy dog\"\n",
        "if (checkPangram(sentence)):\n",
        "  print('\"'+sentence+'\"')\n",
        "  print(\"\\nis a pangram\")\n",
        "else:\n",
        "  print('\"'+sentence+'\"')\n",
        "  print(\"\\nis not a pangram\")"
      ]
    }
  ]
}