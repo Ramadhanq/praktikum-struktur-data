{
  "nbformat": 4,
  "nbformat_minor": 0,
  "metadata": {
    "colab": {
      "provenance": []
    },
    "kernelspec": {
      "name": "python3",
      "display_name": "Python 3"
    },
    "language_info": {
      "name": "python"
    }
  },
  "cells": [
    {
      "cell_type": "code",
      "execution_count": 1,
      "metadata": {
        "colab": {
          "base_uri": "https://localhost:8080/"
        },
        "id": "FNmUBBi3Z1pN",
        "outputId": "8c233fb7-482f-4479-e4bd-1251b736208a"
      },
      "outputs": [
        {
          "output_type": "stream",
          "name": "stdout",
          "text": [
            "1\n",
            "1\n",
            "2\n",
            "3\n",
            "4\n",
            "5\n",
            "2\n"
          ]
        }
      ],
      "source": [
        "# Membuat tuple\n",
        "my_tuple = (1, 2, 3, 4, 5)\n",
        "\n",
        "# Mengakses elemen tuple\n",
        "print(my_tuple[0])  # Output: 1\n",
        "\n",
        "# Menampilkan seluruh isi tuple\n",
        "for item in my_tuple:\n",
        "    print(item)\n",
        "\n",
        "# Tuple bersarang (nested tuple)\n",
        "nested_tuple = ((1, 2), (3, 4))\n",
        "print(nested_tuple[0][1])  # Output: 2"
      ]
    },
    {
      "cell_type": "code",
      "source": [
        "# Membuat dictionary\n",
        "my_dict = {\"nama\": \"Adhan\", \"umur\": 18, \"kota\": \"Demak\"}\n",
        "\n",
        "# Mengakses nilai dengan kunci\n",
        "print(my_dict[\"nama\"])  # Output: Adhan\n",
        "\n",
        "# Menampilkan semua key dalam dictionary\n",
        "for key in my_dict:\n",
        "    print(key)\n",
        "\n",
        "# Menampilkan semua nilai dalam dictionary\n",
        "for value in my_dict.values():\n",
        "    print(value)\n",
        "\n",
        "# Menampilkan pasangan key-nilai\n",
        "for key, value in my_dict.items():\n",
        "    print(f\"{key}: {value}\")\n",
        "\n",
        "# Menambahkan pasangan key-nilai baru\n",
        "my_dict[\"pekerjaan\"] = \"Barista\"\n",
        "print(my_dict)\n",
        "\n",
        "# Menghapus pasangan key-nilai\n",
        "del my_dict[\"umur\"]\n",
        "print(my_dict)"
      ],
      "metadata": {
        "colab": {
          "base_uri": "https://localhost:8080/"
        },
        "id": "bhPWG9W-aHW0",
        "outputId": "fb8309cb-cf87-46ad-820f-1449818028b5"
      },
      "execution_count": 5,
      "outputs": [
        {
          "output_type": "stream",
          "name": "stdout",
          "text": [
            "Adhan\n",
            "nama\n",
            "umur\n",
            "kota\n",
            "Adhan\n",
            "18\n",
            "Demak\n",
            "nama: Adhan\n",
            "umur: 18\n",
            "kota: Demak\n",
            "{'nama': 'Adhan', 'umur': 18, 'kota': 'Demak', 'pekerjaan': 'Barista'}\n",
            "{'nama': 'Adhan', 'kota': 'Demak', 'pekerjaan': 'Barista'}\n"
          ]
        }
      ]
    }
  ]
}