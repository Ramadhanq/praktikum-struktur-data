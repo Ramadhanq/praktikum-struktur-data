{
  "nbformat": 4,
  "nbformat_minor": 0,
  "metadata": {
    "colab": {
      "provenance": []
    },
    "kernelspec": {
      "name": "python3",
      "display_name": "Python 3"
    },
    "language_info": {
      "name": "python"
    }
  },
  "cells": [
    {
      "cell_type": "code",
      "execution_count": 5,
      "metadata": {
        "colab": {
          "base_uri": "https://localhost:8080/"
        },
        "id": "Aee1MJAd0CZM",
        "outputId": "a26d665c-a103-455b-8a8b-e74649a0c7c0"
      },
      "outputs": [
        {
          "output_type": "stream",
          "name": "stdout",
          "text": [
            "1\n",
            "2\n",
            "3\n",
            "4\n",
            "5\n"
          ]
        }
      ],
      "source": [
        "# Python3 program to for tree traversals\n",
        "# Inorder\n",
        "class Node:\n",
        "  def __init__(self, key):\n",
        "    self.left = None\n",
        "    self.right = None\n",
        "    self.val = key\n",
        "\n",
        "# A function to do inorder tree traversal\n",
        "def printInorder(root):\n",
        "\n",
        "  if root:\n",
        "\n",
        "    # First recur on left child\n",
        "    printInorder(root.left)\n",
        "\n",
        "    # then print the data of node\n",
        "    print(root.val),\n",
        "\n",
        "    # now recur on right child\n",
        "    printInorder(root.right)\n",
        "\n",
        "# Driver code\n",
        "if __name__==\"__main__\":\n",
        "  root = Node(4)\n",
        "  root.left = Node(2)\n",
        "  root.right = Node(5)\n",
        "  root.left.left = Node(1)\n",
        "  root.left.right = Node(3)\n",
        "\n",
        "  # Function call\n",
        "  printend=\"\\nInorder traversal of binary tree is\"\n",
        "  printInorder(root)"
      ]
    }
  ]
}